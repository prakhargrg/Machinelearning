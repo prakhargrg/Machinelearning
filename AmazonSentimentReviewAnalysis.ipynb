{
  "nbformat": 4,
  "nbformat_minor": 0,
  "metadata": {
    "colab": {
      "provenance": [],
      "toc_visible": true
    },
    "kernelspec": {
      "name": "python3",
      "display_name": "Python 3"
    },
    "language_info": {
      "name": "python"
    }
  },
  "cells": [
    {
      "cell_type": "code",
      "execution_count": null,
      "metadata": {
        "colab": {
          "base_uri": "https://localhost:8080/",
          "height": 519
        },
        "id": "2NhFpxtoFVYk",
        "outputId": "520ab899-e1da-4295-8592-1c22f85a810d"
      },
      "outputs": [
        {
          "output_type": "stream",
          "name": "stdout",
          "text": [
            "Accuracy: 0.9210740439381611\n",
            "[1]\n",
            "[[0.03750701 0.96249299]]\n"
          ]
        },
        {
          "output_type": "execute_result",
          "data": {
            "text/plain": [
              "<Axes: xlabel='Sentiment_Label'>"
            ]
          },
          "metadata": {},
          "execution_count": 17
        },
        {
          "output_type": "display_data",
          "data": {
            "text/plain": [
              "<Figure size 640x480 with 1 Axes>"
            ],
            "image/png": "[encoded data removed]"
          },
          "metadata": {}
        }
      ],
      "source": [
        "import pandas as pd\n",
        "import numpy as np\n",
        "from sklearn.feature_extraction.text import TfidfVectorizer\n",
        "from sklearn.linear_model import LogisticRegression\n",
        "from sklearn.model_selection import train_test_split\n",
        "\n",
        "# Load the Amazon Reviews dataset\n",
        "df = pd.read_csv('/content/sample_data/amazon.csv')\n",
        "\n",
        "\n",
        "# Drop all the unnecessary columns that are not needed for analysis\n",
        "df = df.drop(['reviewTime', 'reviewerName'], axis=1)\n",
        "\n",
        "# Convert the star ratings to binary labels\n",
        "df['Sentiment'] = (df['overall'] >= 4).astype(int)\n",
        "df['reviewText'] = df['reviewText'].fillna(\"\")\n",
        "\n",
        "\n",
        "# Split the data into a training set and a test set\n",
        "X_train, X_test, y_train, y_test = train_test_split(df['reviewText'], df['Sentiment'], test_size=0.25)\n",
        "\n",
        "# Create a TfidfVectorizer\n",
        "vectorizer = TfidfVectorizer()\n",
        "X_train = X_train.to_numpy()\n",
        "X_test = X_test.to_numpy()\n",
        "\n",
        "# Transform the training and test sets\n",
        "X_train_tfidf = vectorizer.fit_transform(X_train)\n",
        "X_test_tfidf = vectorizer.transform(X_test)\n",
        "\n",
        "# Create a LogisticRegression model\n",
        "model = LogisticRegression()\n",
        "\n",
        "# Train the model\n",
        "model.fit(X_train_tfidf, y_train)\n",
        "\n",
        "# Evaluate the model\n",
        "score = model.score(X_test_tfidf, y_test)\n",
        "\n",
        "print('Accuracy:', score)\n",
        "# Predict the sentiment of the first review in the test set\n",
        "prediction = model.predict(X_test_tfidf[0])\n",
        "\n",
        "# Print the prediction\n",
        "print(prediction)\n",
        "# Get the probability distribution for the first review in the test set\n",
        "probabilities = model.predict_proba(X_test_tfidf[0])\n",
        "\n",
        "# Print the probability distribution\n",
        "print(probabilities)\n",
        "sentiment_counts = df['Sentiment'].value_counts()\n",
        "sentiment_df = pd.DataFrame({'Sentiment': sentiment_counts.index, 'Count': sentiment_counts.values})\n",
        "sentiment_df['Sentiment_Label'] = sentiment_df['Sentiment'].map({1: 'Positive', 0: 'Negative'})\n",
        "\n",
        "\n",
        "# Plot the DataFrame as a bar graph\n",
        "sentiment_df.plot(kind='bar', x='Sentiment_Label', y='Count', rot=0)"
      ]
    },
    {
      "cell_type": "markdown",
      "source": [
        "TfIdvectorizer-TfidfVectorizer is a class in the scikit-learn library that is used to transform text into a numerical representation that can be used by machine learning algorithms. The TfidfVectorizer works by first breaking the text into words. Then, it calculates the term frequency (tf) for each word in each document. The tf is the number of times the word appears in the document. The TfidfVectorizer then calculates the inverse document frequency (idf) for each word. The idf is a measure of how rare the word is in the corpus. The final representation of each document is a vector of tf-idf values for each word."
      ],
      "metadata": {
        "id": "VOJaWcZ_MNi6"
      }
    }
  ]
}